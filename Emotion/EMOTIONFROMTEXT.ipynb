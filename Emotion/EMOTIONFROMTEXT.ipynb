{
 "cells": [
  {
   "cell_type": "code",
   "execution_count": 2,
   "id": "473a0134-e8c2-459b-94c1-64330403a6c1",
   "metadata": {},
   "outputs": [],
   "source": [
    "#Detects enotion from text\n",
    "#Created by S. Biswas\n",
    "import pandas as pd"
   ]
  },
  {
   "cell_type": "code",
   "execution_count": 22,
   "id": "ed84f5c0-14ee-486e-8a34-ce5dd5939d0c",
   "metadata": {},
   "outputs": [],
   "source": [
    "df_train = pd.read_csv('train.txt', sep=';', names=['Sentence', 'Emotion'], encoding='UTF8')\n",
    "#data cleaning\n",
    "df_train = df_train[df_train['Sentence'] != '']\n",
    "df_train = df_train.dropna()\n",
    "df_train = df_train.drop_duplicates()\n",
    "# df_train = df_train[df_train['Sentence'] != '']\n"
   ]
  },
  {
   "cell_type": "code",
   "execution_count": 23,
   "id": "35f1b7e7-de1c-4fc0-b664-a2433cd3b31c",
   "metadata": {},
   "outputs": [],
   "source": [
    "df_train['length'] = [len(sen) for sen in df_train['Sentence']]"
   ]
  },
  {
   "cell_type": "code",
   "execution_count": 24,
   "id": "01ecf010-c3dd-4c35-b6f0-47730926eb4e",
   "metadata": {},
   "outputs": [
    {
     "data": {
      "text/html": [
       "<div>\n",
       "<style scoped>\n",
       "    .dataframe tbody tr th:only-of-type {\n",
       "        vertical-align: middle;\n",
       "    }\n",
       "\n",
       "    .dataframe tbody tr th {\n",
       "        vertical-align: top;\n",
       "    }\n",
       "\n",
       "    .dataframe thead th {\n",
       "        text-align: right;\n",
       "    }\n",
       "</style>\n",
       "<table border=\"1\" class=\"dataframe\">\n",
       "  <thead>\n",
       "    <tr style=\"text-align: right;\">\n",
       "      <th></th>\n",
       "      <th>Sentence</th>\n",
       "      <th>Emotion</th>\n",
       "      <th>length</th>\n",
       "    </tr>\n",
       "  </thead>\n",
       "  <tbody>\n",
       "    <tr>\n",
       "      <th>0</th>\n",
       "      <td>i didnt feel humiliated</td>\n",
       "      <td>sadness</td>\n",
       "      <td>23</td>\n",
       "    </tr>\n",
       "    <tr>\n",
       "      <th>1</th>\n",
       "      <td>i can go from feeling so hopeless to so damned...</td>\n",
       "      <td>sadness</td>\n",
       "      <td>108</td>\n",
       "    </tr>\n",
       "    <tr>\n",
       "      <th>2</th>\n",
       "      <td>im grabbing a minute to post i feel greedy wrong</td>\n",
       "      <td>anger</td>\n",
       "      <td>48</td>\n",
       "    </tr>\n",
       "    <tr>\n",
       "      <th>3</th>\n",
       "      <td>i am ever feeling nostalgic about the fireplac...</td>\n",
       "      <td>love</td>\n",
       "      <td>92</td>\n",
       "    </tr>\n",
       "    <tr>\n",
       "      <th>4</th>\n",
       "      <td>i am feeling grouchy</td>\n",
       "      <td>anger</td>\n",
       "      <td>20</td>\n",
       "    </tr>\n",
       "  </tbody>\n",
       "</table>\n",
       "</div>"
      ],
      "text/plain": [
       "                                            Sentence  Emotion  length\n",
       "0                            i didnt feel humiliated  sadness      23\n",
       "1  i can go from feeling so hopeless to so damned...  sadness     108\n",
       "2   im grabbing a minute to post i feel greedy wrong    anger      48\n",
       "3  i am ever feeling nostalgic about the fireplac...     love      92\n",
       "4                               i am feeling grouchy    anger      20"
      ]
     },
     "execution_count": 24,
     "metadata": {},
     "output_type": "execute_result"
    }
   ],
   "source": [
    "df_train.head()"
   ]
  },
  {
   "cell_type": "code",
   "execution_count": 33,
   "id": "ad4d94c7-ef3b-4047-8f7c-9cc5b891acb9",
   "metadata": {},
   "outputs": [],
   "source": [
    "# import matplotlib.pyplot as plt\n",
    "# import seaborn as sea\n",
    "# sea.countplot(x=df_train['Emotion'])\n",
    "from sklearn.preprocessing import LabelEncoder\n",
    "lb = LabelEncoder()\n",
    "df_train['Emotion'] = lb.fit_transform(df_train['Emotion'])"
   ]
  },
  {
   "cell_type": "code",
   "execution_count": 34,
   "id": "0b7f0a10-6b83-456b-83ca-3283d41c95aa",
   "metadata": {},
   "outputs": [
    {
     "name": "stdout",
     "output_type": "stream",
     "text": [
      "0        4\n",
      "1        4\n",
      "2        0\n",
      "3        3\n",
      "4        0\n",
      "        ..\n",
      "15995    4\n",
      "15996    4\n",
      "15997    2\n",
      "15998    0\n",
      "15999    4\n",
      "Name: Emotion, Length: 15999, dtype: int64\n"
     ]
    }
   ],
   "source": [
    "print(df_train['Emotion'])"
   ]
  },
  {
   "cell_type": "code",
   "execution_count": 43,
   "id": "ee2f097f-b838-4b8e-a6f3-489e1203c7cb",
   "metadata": {},
   "outputs": [],
   "source": [
    "from sklearn.feature_extraction.text import TfidfVectorizer\n",
    "import nltk\n",
    "import re\n",
    "stopwords = nltk.corpus.stopwords.words('english')\n",
    "from nltk.stem import PorterStemmer\n",
    "stemmer = PorterStemmer()\n",
    "df_train['Cleaned_Sentence'] = df_train['Sentence'].apply(lambda x: re.sub(\"[^a-zA-Z]\", \" \", x))\n",
    "df_train['Final_Cleaned_Sentence'] = df_train['Cleaned_Sentence'].apply(lambda x: ' '.join(word for word in x.split() if word not in stopwords))\n",
    "\n"
   ]
  },
  {
   "cell_type": "code",
   "execution_count": 44,
   "id": "3b7d58df-d735-4f83-a673-bea51b72345f",
   "metadata": {},
   "outputs": [
    {
     "data": {
      "text/html": [
       "<div>\n",
       "<style scoped>\n",
       "    .dataframe tbody tr th:only-of-type {\n",
       "        vertical-align: middle;\n",
       "    }\n",
       "\n",
       "    .dataframe tbody tr th {\n",
       "        vertical-align: top;\n",
       "    }\n",
       "\n",
       "    .dataframe thead th {\n",
       "        text-align: right;\n",
       "    }\n",
       "</style>\n",
       "<table border=\"1\" class=\"dataframe\">\n",
       "  <thead>\n",
       "    <tr style=\"text-align: right;\">\n",
       "      <th></th>\n",
       "      <th>Sentence</th>\n",
       "      <th>Emotion</th>\n",
       "      <th>length</th>\n",
       "      <th>Cleaned_Sentence</th>\n",
       "      <th>Final_Cleaned_Sentence</th>\n",
       "    </tr>\n",
       "  </thead>\n",
       "  <tbody>\n",
       "    <tr>\n",
       "      <th>0</th>\n",
       "      <td>i didnt feel humiliated</td>\n",
       "      <td>4</td>\n",
       "      <td>23</td>\n",
       "      <td>i didnt feel humiliated</td>\n",
       "      <td>didnt feel humiliated</td>\n",
       "    </tr>\n",
       "    <tr>\n",
       "      <th>1</th>\n",
       "      <td>i can go from feeling so hopeless to so damned...</td>\n",
       "      <td>4</td>\n",
       "      <td>108</td>\n",
       "      <td>i can go from feeling so hopeless to so damned...</td>\n",
       "      <td>go feeling hopeless damned hopeful around some...</td>\n",
       "    </tr>\n",
       "    <tr>\n",
       "      <th>2</th>\n",
       "      <td>im grabbing a minute to post i feel greedy wrong</td>\n",
       "      <td>0</td>\n",
       "      <td>48</td>\n",
       "      <td>im grabbing a minute to post i feel greedy wrong</td>\n",
       "      <td>im grabbing minute post feel greedy wrong</td>\n",
       "    </tr>\n",
       "    <tr>\n",
       "      <th>3</th>\n",
       "      <td>i am ever feeling nostalgic about the fireplac...</td>\n",
       "      <td>3</td>\n",
       "      <td>92</td>\n",
       "      <td>i am ever feeling nostalgic about the fireplac...</td>\n",
       "      <td>ever feeling nostalgic fireplace know still pr...</td>\n",
       "    </tr>\n",
       "    <tr>\n",
       "      <th>4</th>\n",
       "      <td>i am feeling grouchy</td>\n",
       "      <td>0</td>\n",
       "      <td>20</td>\n",
       "      <td>i am feeling grouchy</td>\n",
       "      <td>feeling grouchy</td>\n",
       "    </tr>\n",
       "  </tbody>\n",
       "</table>\n",
       "</div>"
      ],
      "text/plain": [
       "                                            Sentence  Emotion  length  \\\n",
       "0                            i didnt feel humiliated        4      23   \n",
       "1  i can go from feeling so hopeless to so damned...        4     108   \n",
       "2   im grabbing a minute to post i feel greedy wrong        0      48   \n",
       "3  i am ever feeling nostalgic about the fireplac...        3      92   \n",
       "4                               i am feeling grouchy        0      20   \n",
       "\n",
       "                                    Cleaned_Sentence  \\\n",
       "0                            i didnt feel humiliated   \n",
       "1  i can go from feeling so hopeless to so damned...   \n",
       "2   im grabbing a minute to post i feel greedy wrong   \n",
       "3  i am ever feeling nostalgic about the fireplac...   \n",
       "4                               i am feeling grouchy   \n",
       "\n",
       "                              Final_Cleaned_Sentence  \n",
       "0                              didnt feel humiliated  \n",
       "1  go feeling hopeless damned hopeful around some...  \n",
       "2          im grabbing minute post feel greedy wrong  \n",
       "3  ever feeling nostalgic fireplace know still pr...  \n",
       "4                                    feeling grouchy  "
      ]
     },
     "execution_count": 44,
     "metadata": {},
     "output_type": "execute_result"
    }
   ],
   "source": [
    "df_train.head()"
   ]
  },
  {
   "cell_type": "code",
   "execution_count": 59,
   "id": "2a1d4d6e-edb5-4f02-be6c-c9d0ce48bede",
   "metadata": {},
   "outputs": [],
   "source": [
    "from sklearn.model_selection import train_test_split\n",
    "\n",
    "x_train, x_test, y_train, y_test = train_test_split(df_train['Final_Cleaned_Sentence'], df_train['Emotion'], test_size= 0.2 , random_state=42 )\n"
   ]
  },
  {
   "cell_type": "code",
   "execution_count": 62,
   "id": "cb2c9ff4-14d0-47dc-af31-6bf9a568af1b",
   "metadata": {},
   "outputs": [
    {
     "name": "stdout",
     "output_type": "stream",
     "text": [
      "  (0, 12824)\t0.3024031259067421\n",
      "  (0, 10002)\t0.3024031259067421\n",
      "  (0, 11635)\t0.2014964071061957\n",
      "  (0, 9401)\t0.17082270472767283\n",
      "  (0, 7245)\t0.3024031259067421\n",
      "  (0, 6440)\t0.3024031259067421\n",
      "  (0, 10888)\t0.22179505516685435\n",
      "  (0, 6971)\t0.3024031259067421\n",
      "  (0, 9805)\t0.280935619704907\n",
      "  (0, 6180)\t0.3024031259067421\n",
      "  (0, 10877)\t0.1986530295548731\n",
      "  (0, 4362)\t0.06734548295806918\n",
      "  (0, 5435)\t0.15753625405700036\n",
      "  (0, 1667)\t0.15531316086672445\n",
      "  (0, 11881)\t0.1562661918993771\n",
      "  (0, 2586)\t0.21121071566694555\n",
      "  (0, 9537)\t0.3024031259067421\n",
      "  (1, 12084)\t0.4183040168164712\n",
      "  (1, 4364)\t0.3325114392421894\n",
      "  (1, 11740)\t0.5502746800093348\n",
      "  (1, 10880)\t0.3522391416525957\n",
      "  (1, 831)\t0.4379464248012754\n",
      "  (1, 4359)\t0.09610944717451617\n",
      "  (1, 13202)\t0.2941923844771472\n",
      "  (2, 6830)\t0.3921515500410638\n",
      "  :\t:\n",
      "  (12794, 9428)\t0.45465629452962053\n",
      "  (12794, 6701)\t0.3470958751460806\n",
      "  (12794, 2368)\t0.3730084311340277\n",
      "  (12794, 10704)\t0.3547679894759444\n",
      "  (12794, 6976)\t0.2634535785669521\n",
      "  (12794, 4362)\t0.12645381245098944\n",
      "  (12795, 3007)\t0.9803284769676348\n",
      "  (12795, 4359)\t0.1973729394985987\n",
      "  (12796, 11127)\t0.6452234732958614\n",
      "  (12796, 11267)\t0.6085438408303516\n",
      "  (12796, 6875)\t0.4370484970703616\n",
      "  (12796, 4359)\t0.1494980752518461\n",
      "  (12797, 2688)\t0.4425981240871193\n",
      "  (12797, 9581)\t0.4242186569456581\n",
      "  (12797, 2322)\t0.4010632668041249\n",
      "  (12797, 56)\t0.31691849765771507\n",
      "  (12797, 7693)\t0.5989867354650512\n",
      "  (12797, 4359)\t0.06380630261569774\n",
      "  (12798, 13232)\t0.5568655847404244\n",
      "  (12798, 6955)\t0.4343927687695487\n",
      "  (12798, 9996)\t0.413215684958652\n",
      "  (12798, 10882)\t0.28217823998665253\n",
      "  (12798, 3430)\t0.3708877362820881\n",
      "  (12798, 10880)\t0.32469276075789305\n",
      "  (12798, 4359)\t0.08859333914907801\n"
     ]
    }
   ],
   "source": [
    "from sklearn.feature_extraction.text import TfidfVectorizer\n",
    "tfidfv = TfidfVectorizer()\n",
    "x_train_tfidf = tfidfv.fit_transform(x_train)\n",
    "x_test_tfidf = tfidfv.transform(x_test)\n",
    "print(x_train_tfidf)"
   ]
  },
  {
   "cell_type": "code",
   "execution_count": 74,
   "id": "35d8613b-4a61-4d80-9b1b-876bfdfb023a",
   "metadata": {},
   "outputs": [
    {
     "ename": "AttributeError",
     "evalue": "'MultinomialNB' object has no attribute 'accuracy_score'",
     "output_type": "error",
     "traceback": [
      "\u001b[0;31m---------------------------------------------------------------------------\u001b[0m",
      "\u001b[0;31mAttributeError\u001b[0m                            Traceback (most recent call last)",
      "Cell \u001b[0;32mIn[74], line 10\u001b[0m\n\u001b[1;32m      8\u001b[0m \u001b[38;5;28mcls\u001b[39m\u001b[38;5;241m.\u001b[39mfit(x_train_tfidf, y_train)\n\u001b[1;32m      9\u001b[0m y_pred \u001b[38;5;241m=\u001b[39m \u001b[38;5;28mcls\u001b[39m\u001b[38;5;241m.\u001b[39mpredict(x_test_tfidf)\n\u001b[0;32m---> 10\u001b[0m acc \u001b[38;5;241m=\u001b[39m \u001b[38;5;28;43mcls\u001b[39;49m\u001b[38;5;241;43m.\u001b[39;49m\u001b[43maccuracy_score\u001b[49m(y_test, y_pred)\n\u001b[1;32m     11\u001b[0m \u001b[38;5;28mprint\u001b[39m(\u001b[38;5;124mf\u001b[39m\u001b[38;5;124m\"\u001b[39m\u001b[38;5;124m=====\u001b[39m\u001b[38;5;132;01m{\u001b[39;00mname\u001b[38;5;132;01m}\u001b[39;00m\u001b[38;5;124m======\u001b[39m\u001b[38;5;130;01m\\n\u001b[39;00m\u001b[38;5;124m\"\u001b[39m)\n\u001b[1;32m     12\u001b[0m \u001b[38;5;28mprint\u001b[39m(\u001b[38;5;124mf\u001b[39m\u001b[38;5;124m\"\u001b[39m\u001b[38;5;124m=====\u001b[39m\u001b[38;5;132;01m{\u001b[39;00macc\u001b[38;5;132;01m}\u001b[39;00m\u001b[38;5;124m======\u001b[39m\u001b[38;5;130;01m\\n\u001b[39;00m\u001b[38;5;124m\"\u001b[39m)\n",
      "\u001b[0;31mAttributeError\u001b[0m: 'MultinomialNB' object has no attribute 'accuracy_score'"
     ]
    }
   ],
   "source": [
    "from sklearn.naive_bayes import MultinomialNB\n",
    "from sklearn.linear_model import LogisticRegression\n",
    "classifier = {\n",
    "    'MultinomialNB' : MultinomialNB(),\n",
    "    'LogisticRegression' : LogisticRegression(),   \n",
    "}\n",
    "for name, cls in classifier.items():\n",
    "    cls.fit(x_train_tfidf, y_train)\n",
    "    y_pred = cls.predict(x_test_tfidf)\n",
    "    acc = cls.accuracy_score(y_test, y_pred)\n",
    "    print(f\"====={name}======\\n\")\n",
    "    print(f\"====={acc}======\\n\")\n",
    "    \n",
    "    "
   ]
  },
  {
   "cell_type": "code",
   "execution_count": null,
   "id": "7105effe-7c10-47df-b2a9-e462c9a7da60",
   "metadata": {},
   "outputs": [],
   "source": []
  },
  {
   "cell_type": "code",
   "execution_count": null,
   "id": "ef01a4aa-3090-47b3-98d1-251a9e8b6815",
   "metadata": {},
   "outputs": [],
   "source": []
  }
 ],
 "metadata": {
  "kernelspec": {
   "display_name": "Python 3 (ipykernel)",
   "language": "python",
   "name": "python3"
  },
  "language_info": {
   "codemirror_mode": {
    "name": "ipython",
    "version": 3
   },
   "file_extension": ".py",
   "mimetype": "text/x-python",
   "name": "python",
   "nbconvert_exporter": "python",
   "pygments_lexer": "ipython3",
   "version": "3.10.12"
  }
 },
 "nbformat": 4,
 "nbformat_minor": 5
}
