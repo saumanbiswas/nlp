{
 "cells": [
  {
   "cell_type": "code",
   "execution_count": 2,
   "id": "473a0134-e8c2-459b-94c1-64330403a6c1",
   "metadata": {},
   "outputs": [],
   "source": [
    "#Detects enotion from text\n",
    "#Created by S. Biswas\n",
    "import pandas as pd"
   ]
  },
  {
   "cell_type": "code",
   "execution_count": 22,
   "id": "ed84f5c0-14ee-486e-8a34-ce5dd5939d0c",
   "metadata": {},
   "outputs": [],
   "source": [
    "df_train = pd.read_csv('train.txt', sep=';', names=['Sentence', 'Emotion'], encoding='UTF8')\n",
    "#data cleaning\n",
    "df_train = df_train[df_train['Sentence'] != '']\n",
    "df_train = df_train.dropna()\n",
    "df_train = df_train.drop_duplicates()\n",
    "# df_train = df_train[df_train['Sentence'] != '']\n"
   ]
  },
  {
   "cell_type": "code",
   "execution_count": 23,
   "id": "35f1b7e7-de1c-4fc0-b664-a2433cd3b31c",
   "metadata": {},
   "outputs": [],
   "source": [
    "df_train['length'] = [len(sen) for sen in df_train['Sentence']]"
   ]
  },
  {
   "cell_type": "code",
   "execution_count": 24,
   "id": "01ecf010-c3dd-4c35-b6f0-47730926eb4e",
   "metadata": {},
   "outputs": [
    {
     "data": {
      "text/html": [
       "<div>\n",
       "<style scoped>\n",
       "    .dataframe tbody tr th:only-of-type {\n",
       "        vertical-align: middle;\n",
       "    }\n",
       "\n",
       "    .dataframe tbody tr th {\n",
       "        vertical-align: top;\n",
       "    }\n",
       "\n",
       "    .dataframe thead th {\n",
       "        text-align: right;\n",
       "    }\n",
       "</style>\n",
       "<table border=\"1\" class=\"dataframe\">\n",
       "  <thead>\n",
       "    <tr style=\"text-align: right;\">\n",
       "      <th></th>\n",
       "      <th>Sentence</th>\n",
       "      <th>Emotion</th>\n",
       "      <th>length</th>\n",
       "    </tr>\n",
       "  </thead>\n",
       "  <tbody>\n",
       "    <tr>\n",
       "      <th>0</th>\n",
       "      <td>i didnt feel humiliated</td>\n",
       "      <td>sadness</td>\n",
       "      <td>23</td>\n",
       "    </tr>\n",
       "    <tr>\n",
       "      <th>1</th>\n",
       "      <td>i can go from feeling so hopeless to so damned...</td>\n",
       "      <td>sadness</td>\n",
       "      <td>108</td>\n",
       "    </tr>\n",
       "    <tr>\n",
       "      <th>2</th>\n",
       "      <td>im grabbing a minute to post i feel greedy wrong</td>\n",
       "      <td>anger</td>\n",
       "      <td>48</td>\n",
       "    </tr>\n",
       "    <tr>\n",
       "      <th>3</th>\n",
       "      <td>i am ever feeling nostalgic about the fireplac...</td>\n",
       "      <td>love</td>\n",
       "      <td>92</td>\n",
       "    </tr>\n",
       "    <tr>\n",
       "      <th>4</th>\n",
       "      <td>i am feeling grouchy</td>\n",
       "      <td>anger</td>\n",
       "      <td>20</td>\n",
       "    </tr>\n",
       "  </tbody>\n",
       "</table>\n",
       "</div>"
      ],
      "text/plain": [
       "                                            Sentence  Emotion  length\n",
       "0                            i didnt feel humiliated  sadness      23\n",
       "1  i can go from feeling so hopeless to so damned...  sadness     108\n",
       "2   im grabbing a minute to post i feel greedy wrong    anger      48\n",
       "3  i am ever feeling nostalgic about the fireplac...     love      92\n",
       "4                               i am feeling grouchy    anger      20"
      ]
     },
     "execution_count": 24,
     "metadata": {},
     "output_type": "execute_result"
    }
   ],
   "source": [
    "df_train.head()"
   ]
  },
  {
   "cell_type": "code",
   "execution_count": 33,
   "id": "ad4d94c7-ef3b-4047-8f7c-9cc5b891acb9",
   "metadata": {},
   "outputs": [],
   "source": [
    "# import matplotlib.pyplot as plt\n",
    "# import seaborn as sea\n",
    "# sea.countplot(x=df_train['Emotion'])\n",
    "from sklearn.preprocessing import LabelEncoder\n",
    "lb = LabelEncoder()\n",
    "df_train['Emotion'] = lb.fit_transform(df_train['Emotion'])"
   ]
  },
  {
   "cell_type": "code",
   "execution_count": 34,
   "id": "0b7f0a10-6b83-456b-83ca-3283d41c95aa",
   "metadata": {},
   "outputs": [
    {
     "name": "stdout",
     "output_type": "stream",
     "text": [
      "0        4\n",
      "1        4\n",
      "2        0\n",
      "3        3\n",
      "4        0\n",
      "        ..\n",
      "15995    4\n",
      "15996    4\n",
      "15997    2\n",
      "15998    0\n",
      "15999    4\n",
      "Name: Emotion, Length: 15999, dtype: int64\n"
     ]
    }
   ],
   "source": [
    "print(df_train['Emotion'])"
   ]
  },
  {
   "cell_type": "code",
   "execution_count": 43,
   "id": "ee2f097f-b838-4b8e-a6f3-489e1203c7cb",
   "metadata": {},
   "outputs": [],
   "source": [
    "from sklearn.feature_extraction.text import TfidfVectorizer\n",
    "import nltk\n",
    "import re\n",
    "stopwords = nltk.corpus.stopwords.words('english')\n",
    "from nltk.stem import PorterStemmer\n",
    "stemmer = PorterStemmer()\n",
    "df_train['Cleaned_Sentence'] = df_train['Sentence'].apply(lambda x: re.sub(\"[^a-zA-Z]\", \" \", x))\n",
    "df_train['Final_Cleaned_Sentence'] = df_train['Cleaned_Sentence'].apply(lambda x: ' '.join(word for word in x.split() if word not in stopwords))\n",
    "\n"
   ]
  },
  {
   "cell_type": "code",
   "execution_count": 44,
   "id": "3b7d58df-d735-4f83-a673-bea51b72345f",
   "metadata": {},
   "outputs": [
    {
     "data": {
      "text/html": [
       "<div>\n",
       "<style scoped>\n",
       "    .dataframe tbody tr th:only-of-type {\n",
       "        vertical-align: middle;\n",
       "    }\n",
       "\n",
       "    .dataframe tbody tr th {\n",
       "        vertical-align: top;\n",
       "    }\n",
       "\n",
       "    .dataframe thead th {\n",
       "        text-align: right;\n",
       "    }\n",
       "</style>\n",
       "<table border=\"1\" class=\"dataframe\">\n",
       "  <thead>\n",
       "    <tr style=\"text-align: right;\">\n",
       "      <th></th>\n",
       "      <th>Sentence</th>\n",
       "      <th>Emotion</th>\n",
       "      <th>length</th>\n",
       "      <th>Cleaned_Sentence</th>\n",
       "      <th>Final_Cleaned_Sentence</th>\n",
       "    </tr>\n",
       "  </thead>\n",
       "  <tbody>\n",
       "    <tr>\n",
       "      <th>0</th>\n",
       "      <td>i didnt feel humiliated</td>\n",
       "      <td>4</td>\n",
       "      <td>23</td>\n",
       "      <td>i didnt feel humiliated</td>\n",
       "      <td>didnt feel humiliated</td>\n",
       "    </tr>\n",
       "    <tr>\n",
       "      <th>1</th>\n",
       "      <td>i can go from feeling so hopeless to so damned...</td>\n",
       "      <td>4</td>\n",
       "      <td>108</td>\n",
       "      <td>i can go from feeling so hopeless to so damned...</td>\n",
       "      <td>go feeling hopeless damned hopeful around some...</td>\n",
       "    </tr>\n",
       "    <tr>\n",
       "      <th>2</th>\n",
       "      <td>im grabbing a minute to post i feel greedy wrong</td>\n",
       "      <td>0</td>\n",
       "      <td>48</td>\n",
       "      <td>im grabbing a minute to post i feel greedy wrong</td>\n",
       "      <td>im grabbing minute post feel greedy wrong</td>\n",
       "    </tr>\n",
       "    <tr>\n",
       "      <th>3</th>\n",
       "      <td>i am ever feeling nostalgic about the fireplac...</td>\n",
       "      <td>3</td>\n",
       "      <td>92</td>\n",
       "      <td>i am ever feeling nostalgic about the fireplac...</td>\n",
       "      <td>ever feeling nostalgic fireplace know still pr...</td>\n",
       "    </tr>\n",
       "    <tr>\n",
       "      <th>4</th>\n",
       "      <td>i am feeling grouchy</td>\n",
       "      <td>0</td>\n",
       "      <td>20</td>\n",
       "      <td>i am feeling grouchy</td>\n",
       "      <td>feeling grouchy</td>\n",
       "    </tr>\n",
       "  </tbody>\n",
       "</table>\n",
       "</div>"
      ],
      "text/plain": [
       "                                            Sentence  Emotion  length  \\\n",
       "0                            i didnt feel humiliated        4      23   \n",
       "1  i can go from feeling so hopeless to so damned...        4     108   \n",
       "2   im grabbing a minute to post i feel greedy wrong        0      48   \n",
       "3  i am ever feeling nostalgic about the fireplac...        3      92   \n",
       "4                               i am feeling grouchy        0      20   \n",
       "\n",
       "                                    Cleaned_Sentence  \\\n",
       "0                            i didnt feel humiliated   \n",
       "1  i can go from feeling so hopeless to so damned...   \n",
       "2   im grabbing a minute to post i feel greedy wrong   \n",
       "3  i am ever feeling nostalgic about the fireplac...   \n",
       "4                               i am feeling grouchy   \n",
       "\n",
       "                              Final_Cleaned_Sentence  \n",
       "0                              didnt feel humiliated  \n",
       "1  go feeling hopeless damned hopeful around some...  \n",
       "2          im grabbing minute post feel greedy wrong  \n",
       "3  ever feeling nostalgic fireplace know still pr...  \n",
       "4                                    feeling grouchy  "
      ]
     },
     "execution_count": 44,
     "metadata": {},
     "output_type": "execute_result"
    }
   ],
   "source": [
    "df_train.head()"
   ]
  },
  {
   "cell_type": "code",
   "execution_count": null,
   "id": "2a1d4d6e-edb5-4f02-be6c-c9d0ce48bede",
   "metadata": {},
   "outputs": [],
   "source": []
  }
 ],
 "metadata": {
  "kernelspec": {
   "display_name": "Python 3 (ipykernel)",
   "language": "python",
   "name": "python3"
  },
  "language_info": {
   "codemirror_mode": {
    "name": "ipython",
    "version": 3
   },
   "file_extension": ".py",
   "mimetype": "text/x-python",
   "name": "python",
   "nbconvert_exporter": "python",
   "pygments_lexer": "ipython3",
   "version": "3.10.12"
  }
 },
 "nbformat": 4,
 "nbformat_minor": 5
}
